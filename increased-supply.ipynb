{
 "cells": [
  {
   "cell_type": "markdown",
   "metadata": {},
   "source": [
    "# Because of new collection methods, item prices will drop\n",
    "\n",
    "On the 7<sup>th</sup> of September 2017, a new update was released for the game Runescape. This update added a new island to the game called Fossil Island. This island sports a few new ways to train the skills \"Hunter\" and \"Mining\".\n",
    "\n",
    "A new boar was added to the game called the Herbiboar. To catch this boar, you will need to play a minigame-like activity called trekking. You need to track this boar from one hidey hole to the next by following its tracks. When you have found the boar, you can attack and stun it. The Herbiboar got its name because of its unique ability to grow herbs on its back. When it's stunned, you can pick these herbs and use them for potions or sell them to other players.\n",
    "\n",
    "Before this update, you could only acquire these herbs by killing monsters, participating in minigames or grow yourself with the \"Farming\" skill. Our hypotheses states that the item prices of these herbs will drop, because there is an easier and faster way now to collect these herbs, which will result in an increase of herbs available on the market."
   ]
  },
  {
   "cell_type": "code",
   "execution_count": 11,
   "metadata": {
    "collapsed": true
   },
   "outputs": [],
   "source": [
    "# Global imports\n",
    "import json\n",
    "import pandas as pd "
   ]
  },
  {
   "cell_type": "code",
   "execution_count": 12,
   "metadata": {},
   "outputs": [
    {
     "name": "stdout",
     "output_type": "stream",
     "text": [
      "{'ts': 1452933000000, 'buyingPrice': 30, 'buyingCompleted': 1757, 'sellingPrice': 28, 'sellingCompleted': 2420, 'overallPrice': 29, 'overallCompleted': 4177}\n"
     ]
    }
   ],
   "source": [
    "grimy_guam = json.load(open('data/grimy-guam-leaf.json'))\n",
    "print(grimy_guam[2])"
   ]
  },
  {
   "cell_type": "code",
   "execution_count": null,
   "metadata": {
    "collapsed": true
   },
   "outputs": [],
   "source": []
  }
 ],
 "metadata": {
  "kernelspec": {
   "display_name": "Python 3",
   "language": "python",
   "name": "python3"
  },
  "language_info": {
   "codemirror_mode": {
    "name": "ipython",
    "version": 3
   },
   "file_extension": ".py",
   "mimetype": "text/x-python",
   "name": "python",
   "nbconvert_exporter": "python",
   "pygments_lexer": "ipython3",
   "version": "3.6.2"
  }
 },
 "nbformat": 4,
 "nbformat_minor": 2
}
