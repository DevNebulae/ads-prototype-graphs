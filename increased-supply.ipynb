{
 "cells": [
  {
   "cell_type": "markdown",
   "metadata": {},
   "source": [
    "# Because of new collection methods, item prices will drop\n",
    "\n",
    "On the 7<sup>th</sup> of September 2017, a new update was released for the game Runescape. This update added a new island to the game called Fossil Island. This island sports a few new ways to train the skills \"Hunter\" and \"Mining\".\n",
    "\n",
    "A new boar was added to the game called the Herbiboar. To catch this boar, you will need to play a minigame-like activity called trekking. You need to track this boar from one hidey hole to the next by following its tracks. When you have found the boar, you can attack and stun it. The Herbiboar got its name because of its unique ability to grow herbs on its back. When it's stunned, you can pick these herbs and use them for potions or sell them to other players.\n",
    "\n",
    "Before this update, you could only acquire these herbs by killing monsters, participating in minigames or grow yourself with the \"Farming\" skill. Our hypotheses states that the item prices of these herbs will drop, because there is an easier and faster way now to collect these herbs, which will result in an increase of herbs available on the market."
   ]
  },
  {
   "cell_type": "code",
   "execution_count": 31,
   "metadata": {},
   "outputs": [
    {
     "name": "stdout",
     "output_type": "stream",
     "text": [
      "Done!\n"
     ]
    }
   ],
   "source": [
    "# Global imports\n",
    "import json\n",
    "import matplotlib.pyplot as plt\n",
    "import numpy as np\n",
    "import pandas as pd\n",
    "\n",
    "print(\"Done!\")"
   ]
  },
  {
   "cell_type": "code",
   "execution_count": 32,
   "metadata": {},
   "outputs": [
    {
     "name": "stdout",
     "output_type": "stream",
     "text": [
      "Done!\n"
     ]
    }
   ],
   "source": [
    "# Import and parse all JSON files\n",
    "grimy_avantoe = json.load(open('data/grimy-avantoe.json'))\n",
    "grimy_cadantine = json.load(open('data/grimy-cadantine.json'))\n",
    "grimy_dwarf_weed = json.load(open('data/grimy-dwarf-weed.json'))\n",
    "grimy_guam = json.load(open('data/grimy-guam-leaf.json'))\n",
    "grimy_harralander = json.load(open('data/grimy-harralander.json'))\n",
    "grimy_irit = json.load(open('data/grimy-irit-leaf.json'))\n",
    "grimy_kwuarm = json.load(open('data/grimy-kwuarm.json'))\n",
    "grimy_marrentill = json.load(open('data/grimy-marrentill.json'))\n",
    "grimy_tarromin = json.load(open('data/grimy-tarromin.json'))\n",
    "grimy_ranarr = json.load(open('data/grimy-ranarr-weed.json'))\n",
    "grimy_tarromin = json.load(open('data/grimy-tarromin.json'))\n",
    "grimy_torstol = json.load(open('data/grimy-torstol.json'))\n",
    "\n",
    "print(\"Done!\")"
   ]
  },
  {
   "cell_type": "markdown",
   "metadata": {
    "collapsed": true
   },
   "source": [
    "## Data integrity issues with some records\n",
    "\n",
    "Some records have fields which equate to `0`. For example, if the `buyingCompleted`, `buyingPrice`, `sellingCompleted`, `sellingPrice` or `overallCompleted` fields equate to `0`, they will be left out by the API. This may save on bandwidth, but is annoying to process. So, the fields are re-added when they are missing.\n",
    "\n",
    "The strategy for this is to run a `map` function when a record is missing one of its `7` fields. When that is the case, check which field is missing and add it to the dictionary with a value of `-1`. This value has been chosen, because you can not physically sell an item for negative values."
   ]
  },
  {
   "cell_type": "code",
   "execution_count": 33,
   "metadata": {},
   "outputs": [
    {
     "name": "stdout",
     "output_type": "stream",
     "text": [
      "Done!\n"
     ]
    }
   ],
   "source": [
    "def has_missing_fields(record):\n",
    "    return len(record) < 7\n",
    "\n",
    "def replace_missing_fields(record):\n",
    "    if (not has_missing_fields(record)):\n",
    "        return record\n",
    "    \n",
    "    if (not 'buyingCompleted' in record):\n",
    "        record['buyingCompleted'] = -1\n",
    "        record['buyingPrice'] = -1\n",
    "    \n",
    "    if (not 'sellingCompleted' in record):\n",
    "        record['sellingCompleted'] = -1\n",
    "        record['sellingPrice'] = -1\n",
    "        \n",
    "    return record\n",
    "\n",
    "def sanitize(collection):\n",
    "    return list(map(replace_missing_fields, grimy_avantoe))\n",
    "\n",
    "grimy_avantoe = sanitize(grimy_avantoe)\n",
    "grimy_cadantine = sanitize(grimy_cadantine)\n",
    "grimy_dwarf_weed = sanitize(grimy_dwarf_weed)\n",
    "grimy_guam = sanitize(grimy_guam)\n",
    "grimy_harralander = sanitize(grimy_harralander)\n",
    "grimy_irit = sanitize(grimy_irit)\n",
    "grimy_kwuarm = sanitize(grimy_kwuarm)\n",
    "grimy_marrentill = sanitize(grimy_marrentill)\n",
    "grimy_tarromin = sanitize(grimy_tarromin)\n",
    "grimy_ranarr = sanitize(grimy_ranarr)\n",
    "grimy_tarromin = sanitize(grimy_tarromin)\n",
    "grimy_torstol = sanitize(grimy_torstol)\n",
    "\n",
    "print(\"Done!\")"
   ]
  },
  {
   "cell_type": "code",
   "execution_count": 34,
   "metadata": {},
   "outputs": [
    {
     "name": "stdout",
     "output_type": "stream",
     "text": [
      "Done!\n"
     ]
    }
   ],
   "source": [
    "def map_price_field(record):\n",
    "    return record['overallPrice']\n",
    "\n",
    "def map_price(collection):\n",
    "    return np.array(list(map(map_price_field, collection)))\n",
    "\n",
    "price_avantoe = map_price(grimy_avantoe)\n",
    "price_cadantine = map_price(grimy_cadantine)\n",
    "price_dwarf_weed = map_price(grimy_dwarf_weed)\n",
    "price_guam = map_price(grimy_guam)\n",
    "price_harralander = map_price(grimy_harralander)\n",
    "price_irit = map_price(grimy_irit)\n",
    "price_kwuarm = map_price(grimy_kwuarm)\n",
    "price_marrentill = map_price(grimy_marrentill)\n",
    "price_tarromin = map_price(grimy_tarromin)\n",
    "price_ranarr = map_price(grimy_ranarr)\n",
    "price_tarromin = map_price(grimy_tarromin)\n",
    "price_torstol = map_price(grimy_torstol)\n",
    "\n",
    "print(\"Done!\")"
   ]
  }
 ],
 "metadata": {
  "kernelspec": {
   "display_name": "Python 3",
   "language": "python",
   "name": "python3"
  },
  "language_info": {
   "codemirror_mode": {
    "name": "ipython",
    "version": 3
   },
   "file_extension": ".py",
   "mimetype": "text/x-python",
   "name": "python",
   "nbconvert_exporter": "python",
   "pygments_lexer": "ipython3",
   "version": "3.6.2"
  }
 },
 "nbformat": 4,
 "nbformat_minor": 2
}
